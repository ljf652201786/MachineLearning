{
 "cells": [
  {
   "cell_type": "code",
   "execution_count": null,
   "metadata": {},
   "outputs": [
    {
     "name": "stdout",
     "output_type": "stream",
     "text": [
      "(5, 2)\n",
      "(5, 1, 2)\n"
     ]
    }
   ],
   "source": [
    "import cv2\n",
    "import numpy as np\n",
    "newImageInfo = (500,500,3)\n",
    "dst = np.zeros(newImageInfo,np.uint8)\n",
    "#  1 2 左上角 3 右下角 4 5 fill -1 >0 line w\n",
    "cv2.rectangle(dst,(50,100),(200,300),(255,0,0),5)\n",
    "# 2 center 3 r \n",
    "cv2.circle(dst,(250,250),(50),(0,255,0),2)\n",
    "# 2 center 3 轴 4 angle 5 begin 6 end 7 \n",
    "cv2.ellipse(dst,(256,256),(150,100),0,0,180,(255,255,0),-1)\n",
    "\n",
    "points = np.array([[150,50],[140,140],[200,170],[250,250],[150,50]],np.int32)\n",
    "print(points.shape)\n",
    "points = points.reshape((-1,1,2))\n",
    "print(points.shape)\n",
    "cv2.polylines(dst,[points],True,(0,255,255))\n",
    "cv2.imshow('dst',dst)\n",
    "cv2.waitKey(0)"
   ]
  },
  {
   "cell_type": "code",
   "execution_count": null,
   "metadata": {},
   "outputs": [],
   "source": []
  }
 ],
 "metadata": {
  "kernelspec": {
   "display_name": "Python 3",
   "language": "python",
   "name": "python3"
  },
  "language_info": {
   "codemirror_mode": {
    "name": "ipython",
    "version": 3
   },
   "file_extension": ".py",
   "mimetype": "text/x-python",
   "name": "python",
   "nbconvert_exporter": "python",
   "pygments_lexer": "ipython3",
   "version": "3.6.4"
  }
 },
 "nbformat": 4,
 "nbformat_minor": 2
}
