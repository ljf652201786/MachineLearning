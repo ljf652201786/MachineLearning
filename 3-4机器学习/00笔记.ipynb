{
 "cells": [
  {
   "cell_type": "code",
   "execution_count": null,
   "metadata": {},
   "outputs": [],
   "source": [
    "# 1 样本 2 特征 3 分类器 4 预测 检验\n",
    "# haar+adaboost -》face\n",
    "# haar 模版 adaboost 三级 （强分类器 弱分类器 node）\n",
    "# hog 模版 svm 小狮子识别"
   ]
  }
 ],
 "metadata": {
  "kernelspec": {
   "display_name": "Python 3",
   "language": "python",
   "name": "python3"
  },
  "language_info": {
   "codemirror_mode": {
    "name": "ipython",
    "version": 3
   },
   "file_extension": ".py",
   "mimetype": "text/x-python",
   "name": "python",
   "nbconvert_exporter": "python",
   "pygments_lexer": "ipython3",
   "version": "3.6.4"
  }
 },
 "nbformat": 4,
 "nbformat_minor": 2
}
