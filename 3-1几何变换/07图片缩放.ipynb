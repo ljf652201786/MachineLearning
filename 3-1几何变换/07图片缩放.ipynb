{
 "cells": [
  {
   "cell_type": "code",
   "execution_count": null,
   "metadata": {},
   "outputs": [],
   "source": [
    "#[[A1 A2 B1],[A3 A4 B2]]\n",
    "# [[A1 A2],[A3 A4]]  [[B1],[B2]]\n",
    "# newX = A1*x + A2*y+B1\n",
    "# newY = A3*x +A4*y+B2\n",
    "# x->x*0.5 y->y*0.5\n",
    "# newX = 0.5*x\n",
    "import cv2\n",
    "import numpy as np\n",
    "img = cv2.imread('image0.jpg',1)\n",
    "cv2.imshow('src',img)\n",
    "imgInfo = img.shape\n",
    "height = imgInfo[0]\n",
    "width = imgInfo[1]\n",
    "matScale = np.float32([[0.5,0,0],[0,0.5,0]])\n",
    "dst = cv2.warpAffine(img,matScale,(int(width/2),int(height/2)))\n",
    "cv2.imshow('dst',dst)\n",
    "cv2.waitKey(0)"
   ]
  },
  {
   "cell_type": "code",
   "execution_count": null,
   "metadata": {},
   "outputs": [],
   "source": []
  }
 ],
 "metadata": {
  "kernelspec": {
   "display_name": "Python 3",
   "language": "python",
   "name": "python3"
  },
  "language_info": {
   "codemirror_mode": {
    "name": "ipython",
    "version": 3
   },
   "file_extension": ".py",
   "mimetype": "text/x-python",
   "name": "python",
   "nbconvert_exporter": "python",
   "pygments_lexer": "ipython3",
   "version": "3.6.4"
  }
 },
 "nbformat": 4,
 "nbformat_minor": 2
}
