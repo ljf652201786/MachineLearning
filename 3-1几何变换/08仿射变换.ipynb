{
 "cells": [
  {
   "cell_type": "code",
   "execution_count": null,
   "metadata": {},
   "outputs": [],
   "source": [
    "import cv2\n",
    "import numpy as np\n",
    "img = cv2.imread('image0.jpg',1)\n",
    "cv2.imshow('src',img)\n",
    "imgInfo = img.shape\n",
    "height = imgInfo[0]\n",
    "width = imgInfo[1]\n",
    "#src 3->dst 3 (左上角 左下角 右上角)\n",
    "matSrc = np.float32([[0,0],[0,height-1],[width-1,0]])\n",
    "matDst = np.float32([[50,50],[300,height-200],[width-300,100]])\n",
    "#组合\n",
    "matAffine = cv2.getAffineTransform(matSrc,matDst)# mat 1 src 2 dst\n",
    "dst = cv2.warpAffine(img,matAffine,(width,height))\n",
    "cv2.imshow('dst',dst)\n",
    "cv2.waitKey(0)"
   ]
  }
 ],
 "metadata": {
  "kernelspec": {
   "display_name": "Python 3",
   "language": "python",
   "name": "python3"
  },
  "language_info": {
   "codemirror_mode": {
    "name": "ipython",
    "version": 3
   },
   "file_extension": ".py",
   "mimetype": "text/x-python",
   "name": "python",
   "nbconvert_exporter": "python",
   "pygments_lexer": "ipython3",
   "version": "3.6.4"
  }
 },
 "nbformat": 4,
 "nbformat_minor": 2
}
