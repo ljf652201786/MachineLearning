{
 "cells": [
  {
   "cell_type": "code",
   "execution_count": 5,
   "metadata": {},
   "outputs": [
    {
     "name": "stdout",
     "output_type": "stream",
     "text": [
      "[[15 15 15]\n",
      " [15 15 15]]\n"
     ]
    }
   ],
   "source": [
    "import tensorflow as tf\n",
    "mat0 = tf.constant([[0,0,0],[0,0,0]])\n",
    "mat1 = tf.zeros([2,3])\n",
    "mat2 = tf.ones([3,2])\n",
    "mat3 = tf.fill([2,3],15)\n",
    "with tf.Session() as sess:\n",
    "    #print(sess.run(mat0))\n",
    "    #print(sess.run(mat1))\n",
    "    #print(sess.run(mat2))\n",
    "    print(sess.run(mat3))"
   ]
  },
  {
   "cell_type": "code",
   "execution_count": 14,
   "metadata": {},
   "outputs": [
    {
     "name": "stdout",
     "output_type": "stream",
     "text": [
      "[[0]\n",
      " [0]\n",
      " [0]]\n",
      "[ 0.          0.2         0.40000001  0.60000002  0.80000001  1.\n",
      "  1.20000005  1.39999998  1.60000002  1.80000007  2.        ]\n",
      "[[ -1.66177750e-04   7.87446260e-01  -4.10951853e-01]\n",
      " [ -9.58950400e-01   1.97116375e-01  -2.69421697e-01]]\n"
     ]
    }
   ],
   "source": [
    "import tensorflow as tf\n",
    "mat1 = tf.constant([[2],[3],[4]])\n",
    "mat2 = tf.zeros_like(mat1)\n",
    "mat3 = tf.linspace(0.0,2.0,11)\n",
    "mat4 = tf.random_uniform([2,3],-1,2)\n",
    "with tf.Session() as sess:\n",
    "    print(sess.run(mat2))\n",
    "    print(sess.run(mat3))\n",
    "    print(sess.run(mat4))"
   ]
  },
  {
   "cell_type": "code",
   "execution_count": null,
   "metadata": {},
   "outputs": [],
   "source": []
  }
 ],
 "metadata": {
  "kernelspec": {
   "display_name": "Python 3",
   "language": "python",
   "name": "python3"
  },
  "language_info": {
   "codemirror_mode": {
    "name": "ipython",
    "version": 3
   },
   "file_extension": ".py",
   "mimetype": "text/x-python",
   "name": "python",
   "nbconvert_exporter": "python",
   "pygments_lexer": "ipython3",
   "version": "3.6.4"
  }
 },
 "nbformat": 4,
 "nbformat_minor": 2
}
