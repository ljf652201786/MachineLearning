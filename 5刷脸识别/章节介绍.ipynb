{
 "cells": [
  {
   "cell_type": "code",
   "execution_count": null,
   "metadata": {},
   "outputs": [],
   "source": [
    "# 刷脸识别 input image -》那一个人\n",
    "# 案例简单 人工智能网络 层级很低\n",
    "# 综合：样本收集+图像预处理+tf人工\n",
    "# python爬虫 opencv预处理 tf神经网络\n",
    "# item：code \n",
    "# 样本：\n",
    "# python 方法 -》image\n",
    "# 视频-》ffmpeg opencv \n",
    "# 预处理：\n",
    "# 提取人脸 haar+adaboost +xml-》image 样本\n",
    "# tf神经网络\n",
    "# cnn 数字识别 yale"
   ]
  }
 ],
 "metadata": {
  "kernelspec": {
   "display_name": "Python 3",
   "language": "python",
   "name": "python3"
  },
  "language_info": {
   "codemirror_mode": {
    "name": "ipython",
    "version": 3
   },
   "file_extension": ".py",
   "mimetype": "text/x-python",
   "name": "python",
   "nbconvert_exporter": "python",
   "pygments_lexer": "ipython3",
   "version": "3.6.4"
  }
 },
 "nbformat": 4,
 "nbformat_minor": 2
}
