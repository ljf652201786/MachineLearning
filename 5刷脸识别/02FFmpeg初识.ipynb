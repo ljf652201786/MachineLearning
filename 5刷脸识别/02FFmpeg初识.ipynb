{
 "cells": [
  {
   "cell_type": "code",
   "execution_count": null,
   "metadata": {},
   "outputs": [],
   "source": [
    "# python 爬虫 # ffmpeg\n",
    "# 样本采集车 -》路段-〉视频\n",
    "# opencv 视频 本质-》ffmpeg\n",
    "# 是什么？软件\n",
    "# 文件格式 编解码 剪切 录制 提取 裁剪 复用\n",
    "# 信息 ffmpeg -i 1.mp4\n",
    "# 视频分解图片 ffmpeg -i 1.mp4 image%d.jpg"
   ]
  }
 ],
 "metadata": {
  "kernelspec": {
   "display_name": "Python 3",
   "language": "python",
   "name": "python3"
  },
  "language_info": {
   "codemirror_mode": {
    "name": "ipython",
    "version": 3
   },
   "file_extension": ".py",
   "mimetype": "text/x-python",
   "name": "python",
   "nbconvert_exporter": "python",
   "pygments_lexer": "ipython3",
   "version": "3.6.4"
  }
 },
 "nbformat": 4,
 "nbformat_minor": 2
}
