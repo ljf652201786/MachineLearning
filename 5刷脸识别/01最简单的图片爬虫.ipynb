{
 "cells": [
  {
   "cell_type": "code",
   "execution_count": 9,
   "metadata": {},
   "outputs": [
    {
     "name": "stdout",
     "output_type": "stream",
     "text": [
      "[<img class=\"l\" src=\"//www.imooc.com/static/img/common/appload.png\"/>, <img src=\"/static/module/index/img/banner-txt.svg\"/>, <img src=\"//img1.sycdn.imooc.com/climg/586c5ee90001794c06000338.jpg\"/>, <img src=\"//img1.sycdn.imooc.com/climg/58f6cbdb00015e3006000338.jpg\"/>]\n",
      "link= //www.imooc.com/static/img/common/appload.png\n",
      "link= /static/module/index/img/banner-txt.svg\n",
      "link= //img1.sycdn.imooc.com/climg/586c5ee90001794c06000338.jpg\n",
      "link= //img1.sycdn.imooc.com/climg/58f6cbdb00015e3006000338.jpg\n"
     ]
    }
   ],
   "source": [
    "#'https://class.imooc.com/?c=ios&mc_marking=286b51b2a8e40915ea9023c821882e74&mc_channel=L5\n",
    "# 爬虫 1 理解爬虫原理 2 实现一个的图片爬虫\n",
    "# 1 http 2 html 3 正则 过滤条件 4 其它\n",
    "# 知识点多\n",
    "# 1 url 2 html src 3 img 4 img url\n",
    "import urllib\n",
    "import urllib3\n",
    "import os\n",
    "from bs4 import BeautifulSoup\n",
    "# load url\n",
    "html = urllib.request.urlopen('https://class.imooc.com/?c=ios&mc_marking=286b51b2a8e40915ea9023c821882e74&mc_channel=L5').read()\n",
    "# parse url data 1 html 2 'html.parser' 3 'utf-8'\n",
    "soup = BeautifulSoup(html,'html.parser',from_encoding='utf-8')\n",
    "# img\n",
    "images = soup.findAll('img')\n",
    "print(images)\n",
    "imageName = 0 \n",
    "for image in images:\n",
    "    link = image.get('src')\n",
    "    print('link=',link)\n",
    "    link = 'http:'+link\n",
    "    fileFormat = link[-3:]\n",
    "    if fileFormat == 'png' or fileFormat == 'jpg':\n",
    "        fileSavePath = '/Users/mac/Desktop/DL/'+str(imageName)+'.jpg'\n",
    "        imageName = imageName +1 \n",
    "        urllib.request.urlretrieve(link,fileSavePath)\n",
    "\n"
   ]
  },
  {
   "cell_type": "code",
   "execution_count": null,
   "metadata": {},
   "outputs": [],
   "source": []
  }
 ],
 "metadata": {
  "kernelspec": {
   "display_name": "Python 3",
   "language": "python",
   "name": "python3"
  },
  "language_info": {
   "codemirror_mode": {
    "name": "ipython",
    "version": 3
   },
   "file_extension": ".py",
   "mimetype": "text/x-python",
   "name": "python",
   "nbconvert_exporter": "python",
   "pygments_lexer": "ipython3",
   "version": "3.6.4"
  }
 },
 "nbformat": 4,
 "nbformat_minor": 2
}
