{
 "cells": [
  {
   "cell_type": "code",
   "execution_count": null,
   "metadata": {},
   "outputs": [],
   "source": [
    "# 1 数据yale 2 准备train label-》train \n",
    "# 3 cnn 4 检测\n",
    "import tensorflow as tf\n",
    "import numpy as np\n",
    "import scipy.io as sio\n",
    "\n",
    "f = open('Yale_64x64.mat','rb')\n",
    "mdict = sio.loadmat(f)\n",
    "# fea gnd\n",
    "train_data = mdict['fea']\n",
    "train_label = mdict['gnd']\n",
    "\n",
    "train_data = np.random.permutation(train_data)\n",
    "train_label = np.random.permutation(train_label)\n",
    "test_data = train_data[0:64]\n",
    "test_label = train_label[0:64]\n",
    "np.random.seed(100)\n",
    "test_data = np.random.permutation(test_data)\n",
    "np.random.seed(100)\n",
    "test_label = np.random.permutation(test_label)\n",
    "# train [0-9] [10*N] [15*N]  [0 0 1 0 0 0 0 0 0 0] -> 2\n",
    "train_data = train_data.reshape(train_data.shape[0],64,64,1).astype(np.float32)/255\n",
    "train_labels_new = np.zeros((165,15))# 165 image 15\n",
    "for i in range(0,165):\n",
    "    j = int(train_label[i,0])-1 # 1-15 0-14 \n",
    "    train_labels_new[i,j] = 1\n",
    "\n",
    "test_data_input = test_data.reshape(test_data.shape[0],64,64,1).astype(np.float32)/255\n",
    "test_labels_input = np.zeros((64,15))# 165 image 15\n",
    "for i in range(0,64):\n",
    "    j = int(test_label[i,0])-1 # 1-15 0-14 \n",
    "    test_labels_input[i,j] = 1\n",
    "# cnn acc  tf.nn tf.layer\n",
    "data_input = tf.placeholder(tf.float32,[None,64,64,1])\n",
    "label_input = tf.placeholder(tf.float32,[None,15])\n",
    "\n",
    "layer1 = tf.layers.conv2d(inputs=data_input,filters=32,kernel_size=2,strides=1,padding='SAME',activation=tf.nn.relu)\n",
    "layer1_pool = tf.layers.max_pooling2d(layer1,pool_size=2,strides=2)\n",
    "layer2 = tf.reshape(layer1_pool,[-1,32*32*32])\n",
    "layer2_relu = tf.layers.dense(layer2,1024,tf.nn.relu)\n",
    "output = tf.layers.dense(layer2_relu,15)\n",
    "\n",
    "loss = tf.losses.softmax_cross_entropy(onehot_labels=label_input,logits=output)\n",
    "train = tf.train.GradientDescentOptimizer(0.01).minimize(loss)\n",
    "accuracy = tf.metrics.accuracy(labels=tf.argmax(label_input,axis=1),predictions=tf.argmax(output,axis=1))[1]\n",
    "\n",
    "# run acc\n",
    "init = tf.group(tf.global_variables_initializer(),tf.local_variables_initializer())\n",
    "with tf.Session() as sess:\n",
    "    sess.run(init)\n",
    "    for i in range(0,200):\n",
    "        train_data_input = np.array(train_data)\n",
    "        train_label_input = np.array(train_labels_new)\n",
    "        sess.run([train,loss],feed_dict={data_input:train_data_input,label_input:train_label_input})\n",
    "        acc = sess.run(accuracy,feed_dict={data_input:test_data_input,label_input:test_labels_input})\n",
    "        print('acc:%.2f',acc)"
   ]
  }
 ],
 "metadata": {
  "kernelspec": {
   "display_name": "Python 3",
   "language": "python",
   "name": "python3"
  },
  "language_info": {
   "codemirror_mode": {
    "name": "ipython",
    "version": 3
   },
   "file_extension": ".py",
   "mimetype": "text/x-python",
   "name": "python",
   "nbconvert_exporter": "python",
   "pygments_lexer": "ipython3",
   "version": "3.6.4"
  }
 },
 "nbformat": 4,
 "nbformat_minor": 2
}
